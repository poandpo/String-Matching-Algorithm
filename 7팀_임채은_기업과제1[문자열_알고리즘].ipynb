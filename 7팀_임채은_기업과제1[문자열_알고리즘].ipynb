{
  "nbformat": 4,
  "nbformat_minor": 0,
  "metadata": {
    "colab": {
      "name": "7팀_임채은_기업과제1[문자열 알고리즘].ipynb",
      "provenance": [],
      "include_colab_link": true
    },
    "kernelspec": {
      "name": "python3",
      "display_name": "Python 3"
    },
    "language_info": {
      "name": "python"
    }
  },
  "cells": [
    {
      "cell_type": "markdown",
      "metadata": {
        "id": "view-in-github",
        "colab_type": "text"
      },
      "source": [
        "<a href=\"https://colab.research.google.com/github/poandpo/report-1-2/blob/main/7%ED%8C%80_%EC%9E%84%EC%B1%84%EC%9D%80_%EA%B8%B0%EC%97%85%EA%B3%BC%EC%A0%9C1%5B%EB%AC%B8%EC%9E%90%EC%97%B4_%EC%95%8C%EA%B3%A0%EB%A6%AC%EC%A6%98%5D.ipynb\" target=\"_parent\"><img src=\"https://colab.research.google.com/assets/colab-badge.svg\" alt=\"Open In Colab\"/></a>"
      ]
    },
    {
      "cell_type": "code",
      "source": [
        "# 리스트 형태의 입력값으로 가정\n",
        "input = [\n",
        "9,\n",
        "\"aaa\",\"aaaabb\", \"aabbcc\", \"abb\", \"bcc\", \"bbcc\", \"aabbccdd\", \"aaabb\", \"cccd\",\n",
        " 2,\n",
        " \"aaaabbaabbccdd\", 'bcccdhhhhaabbcc' ]"
      ],
      "metadata": {
        "id": "nBUvoIxEeMfC"
      },
      "execution_count": null,
      "outputs": []
    },
    {
      "cell_type": "markdown",
      "source": [
        "# 1번: in 이용 "
      ],
      "metadata": {
        "id": "kfC_UsJ5yKsM"
      }
    },
    {
      "cell_type": "code",
      "source": [
        "def Search_Yes_in(input):\n",
        " n = input[0]  \n",
        " pats = input[1:n+1] # 집합의 원소 리스트\n",
        " txts = input[n+2:] # 대상 문자열 리스트\n",
        " for  i,txt in  enumerate(txts):\n",
        "    for pat in pats:\n",
        "      if pat in txt : # 대상 문자열이 집합의 원소가 있는 경우\n",
        "        print(\"Yes\")\n",
        "      else:\n",
        "         print(\"No\") # 대상 문자열이 집합의 원소가 없는 경우\n",
        "    print(\"---- %d 번째 매칭 대상 문자열 마무리 ------\" %(i+1))     "
      ],
      "metadata": {
        "id": "NcmNhEI81j5N"
      },
      "execution_count": null,
      "outputs": []
    },
    {
      "cell_type": "code",
      "source": [
        " Search_Yes_in(input) # time: 0.006564617156982422"
      ],
      "metadata": {
        "colab": {
          "base_uri": "https://localhost:8080/"
        },
        "id": "wb8mIVvs1qLn",
        "outputId": "4a531b07-9853-42ce-9ee5-28f9a4c8358a"
      },
      "execution_count": null,
      "outputs": [
        {
          "output_type": "stream",
          "name": "stdout",
          "text": [
            "Yes\n",
            "Yes\n",
            "Yes\n",
            "Yes\n",
            "Yes\n",
            "Yes\n",
            "Yes\n",
            "Yes\n",
            "No\n",
            "---- 1 번째 매칭 대상 문자열 마무리 ------\n",
            "No\n",
            "No\n",
            "Yes\n",
            "Yes\n",
            "Yes\n",
            "Yes\n",
            "No\n",
            "No\n",
            "Yes\n",
            "---- 2 번째 매칭 대상 문자열 마무리 ------\n"
          ]
        }
      ]
    },
    {
      "cell_type": "markdown",
      "source": [
        " - 간단하게 코드를 작성하기 위해 find와 in으로  작성하였는데 근소하나 in을 활용한게 연산속도가 더 좋았습니다.\n",
        "\n",
        " 더 많은 양을 처리한다고 봤을때 **Search_Yes_in**을 사용하는것이 더 적절합니다"
      ],
      "metadata": {
        "id": "QdDHd3Li3jSV"
      }
    },
    {
      "cell_type": "markdown",
      "source": [
        "## 2번: find & in 이용"
      ],
      "metadata": {
        "id": "THc1ECV5koSP"
      }
    },
    {
      "cell_type": "code",
      "source": [
        "def first_in_find(input):\n",
        "\n",
        " n = input[0]\n",
        " pats = input[1:n+1] # 집합의 원소 리스트\n",
        " txts = input[n+2:]  # 대상 문자열 리스트\n",
        " for  i,txt in  enumerate(txts):\n",
        "    for pat in pats:\n",
        "      if pat in txt :\n",
        "        print(\"pos=\",txt.find(pat),\",\",\"pattern=\", pat) # 집합의 원소가 문자열에 있을때: 위치, 패턴\n",
        "      else:\n",
        "        pass\n",
        "    print(\"---- %d 번째 매칭 대상 문자열 마무리 ------\" %(i+1)) \n",
        "   "
      ],
      "metadata": {
        "id": "yrd28rJ52t3q"
      },
      "execution_count": null,
      "outputs": []
    },
    {
      "cell_type": "code",
      "source": [
        "first_in_find(input) # time : 0.0038907527923583984"
      ],
      "metadata": {
        "colab": {
          "base_uri": "https://localhost:8080/"
        },
        "id": "UvvqUn748z3D",
        "outputId": "f30a29ca-5f02-46e3-e90e-380fb4d81561"
      },
      "execution_count": null,
      "outputs": [
        {
          "output_type": "stream",
          "name": "stdout",
          "text": [
            "pos= 0 , pattern= aaa\n",
            "pos= 0 , pattern= aaaabb\n",
            "pos= 6 , pattern= aabbcc\n",
            "pos= 3 , pattern= abb\n",
            "pos= 9 , pattern= bcc\n",
            "pos= 8 , pattern= bbcc\n",
            "pos= 6 , pattern= aabbccdd\n",
            "pos= 1 , pattern= aaabb\n",
            "---- 1 번째 매칭 대상 문자열 마무리 ------\n",
            "pos= 9 , pattern= aabbcc\n",
            "pos= 10 , pattern= abb\n",
            "pos= 0 , pattern= bcc\n",
            "pos= 11 , pattern= bbcc\n",
            "pos= 1 , pattern= cccd\n",
            "---- 2 번째 매칭 대상 문자열 마무리 ------\n"
          ]
        }
      ]
    },
    {
      "cell_type": "markdown",
      "source": [
        "- find만 작성한 것과 find 와 in로 작성한 것을 비교하였을때 후자가 약 2.5배에서 3배 빨랐습니다. 그러므로 **first_in_find**  사용하는 것이 더 적절합니다."
      ],
      "metadata": {
        "id": "8yyfN26B_UhI"
      }
    },
    {
      "cell_type": "markdown",
      "source": [
        "## 3 : KMP 알고리즘 이용"
      ],
      "metadata": {
        "id": "AkOOhV4inGWN"
      }
    },
    {
      "cell_type": "code",
      "source": [
        "def LPS(pat, lps):\n",
        "    leng = 0  # length of the previous longest prefix suffix\n",
        "    \n",
        "    # 항상 lps[0]==0이므로 while문은 i==1부터 시작\n",
        "    i = 1\n",
        "    while i < len(pat):\n",
        "        # 이전 인덱스에서 같았다면 다음 인덱스만 비교\n",
        "        if pat[i] == pat[leng]:\n",
        "            leng += 1\n",
        "            lps[i] = leng\n",
        "            i += 1\n",
        "        else:\n",
        "            # 일치하지 않는 경우\n",
        "            if leng != 0:\n",
        "                # 이전 인덱스에서는 같았으므로 leng을 줄여서 다시 검사\n",
        "                leng = lps[leng-1]\n",
        "                # 다시 검사해야 하므로 i는 증가하지 않음\n",
        "            else:\n",
        "                # 이전 인덱스에서도 같지 않았다면 lps[i]는 0 이고 i는 1 증가\n",
        "                lps[i] = 0\n",
        "                i += 1"
      ],
      "metadata": {
        "id": "wCSsX5bzg-vL"
      },
      "execution_count": null,
      "outputs": []
    },
    {
      "cell_type": "code",
      "source": [
        "def KMP_all_pattern(input):\n",
        "  n = input[0]\n",
        "  pats = input[1:n+1]\n",
        "  txts = input[n+2:]\n",
        "\n",
        "  for  x,txt in  enumerate(txts):\n",
        "    for pat in pats:\n",
        "      \n",
        "     M = len(pat)\n",
        "     N = len(txt)\n",
        "\n",
        "     lps = [0]*M\n",
        "\n",
        "     # Preprocess the pattern\n",
        "     LPS(pat, lps)\n",
        "\n",
        "     i = 0  # index for txt[]\n",
        "     j = 0  # index for pat[]\n",
        "     while i < N:\n",
        "        # 문자열이 같은 경우 양쪽 인덱스를 모두 증가시킴\n",
        "        if pat[j] == txt[i]:\n",
        "            i += 1\n",
        "            j += 1\n",
        "        # Pattern을 찾지 못한 경우\n",
        "        elif pat[j] != txt[i]:\n",
        "            # j!=0인 경우는 짧은 lps에 대해 재검사\n",
        "            if j != 0:\n",
        "                j = lps[j-1]\n",
        "            # j==0이면 일치하는 부분이 없으므로 인덱스 증가\n",
        "            else:\n",
        "                i += 1\n",
        "\n",
        "        # Pattern을 찾은 경우\n",
        "        if j == M:\n",
        "            print(\"pos=\",str(i-j),\",\", \"pattern=\",pat )\n",
        "            # 이전 인덱스의 lps값을 참조하여 계속 검색\n",
        "            j = lps[j-1]\n",
        "\n",
        "    print(\"---- %d 번째 매칭 대상 문자열 마무리 ------\" %(x+1))        "
      ],
      "metadata": {
        "id": "qWiMOM_hg6YP"
      },
      "execution_count": null,
      "outputs": []
    },
    {
      "cell_type": "code",
      "source": [
        "KMP_all_pattern(input)"
      ],
      "metadata": {
        "colab": {
          "base_uri": "https://localhost:8080/"
        },
        "id": "8LkUwgQHtRQ6",
        "outputId": "e706f237-1ac9-4b2e-8754-d45cc89bc506"
      },
      "execution_count": null,
      "outputs": [
        {
          "output_type": "stream",
          "name": "stdout",
          "text": [
            "pos= 0 , pattern= aaa\n",
            "pos= 1 , pattern= aaa\n",
            "pos= 0 , pattern= aaaabb\n",
            "pos= 6 , pattern= aabbcc\n",
            "pos= 3 , pattern= abb\n",
            "pos= 7 , pattern= abb\n",
            "pos= 9 , pattern= bcc\n",
            "pos= 8 , pattern= bbcc\n",
            "pos= 6 , pattern= aabbccdd\n",
            "pos= 1 , pattern= aaabb\n",
            "---- 1 번째 매칭 대상 문자열 마무리 ------\n",
            "pos= 9 , pattern= aabbcc\n",
            "pos= 10 , pattern= abb\n",
            "pos= 0 , pattern= bcc\n",
            "pos= 12 , pattern= bcc\n",
            "pos= 11 , pattern= bbcc\n",
            "pos= 1 , pattern= cccd\n",
            "---- 2 번째 매칭 대상 문자열 마무리 ------\n"
          ]
        }
      ]
    }
  ]
}